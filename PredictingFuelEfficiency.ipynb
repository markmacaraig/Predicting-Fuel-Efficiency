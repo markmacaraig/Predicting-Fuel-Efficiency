{
 "cells": [
  {
   "cell_type": "markdown",
   "id": "67d265e9",
   "metadata": {},
   "source": [
    "### Predicting Fuel Efficiency\n"
   ]
  },
  {
   "cell_type": "code",
   "execution_count": 1,
   "id": "62a9a107",
   "metadata": {},
   "outputs": [],
   "source": [
    "# import libraries\n",
    "import pandas as pd\n",
    "import numpy as np\n",
    "import seaborn as sns\n",
    "import matplotlib.pyplot as plt\n",
    "from sklearn import linear_model\n",
    "from sklearn.model_selection import train_test_split\n",
    "from sklearn.linear_model import LinearRegression\n",
    "from sklearn.metrics import r2_score, mean_squared_error, mean_absolute_error\n",
    "from sklearn.preprocessing import PolynomialFeatures"
   ]
  },
  {
   "cell_type": "code",
   "execution_count": 2,
   "id": "3b206f96",
   "metadata": {},
   "outputs": [],
   "source": [
    "# warning\n",
    "import warnings\n",
    "warnings.filterwarnings('ignore')"
   ]
  },
  {
   "cell_type": "code",
   "execution_count": 3,
   "id": "f4695e06",
   "metadata": {},
   "outputs": [],
   "source": [
    "#Load the data as a Pandas data frame.\n",
    "df = pd.read_csv(\"auto-mpg.csv\")"
   ]
  },
  {
   "cell_type": "code",
   "execution_count": 4,
   "id": "e8d20130",
   "metadata": {},
   "outputs": [
    {
     "data": {
      "text/html": [
       "<div>\n",
       "<style scoped>\n",
       "    .dataframe tbody tr th:only-of-type {\n",
       "        vertical-align: middle;\n",
       "    }\n",
       "\n",
       "    .dataframe tbody tr th {\n",
       "        vertical-align: top;\n",
       "    }\n",
       "\n",
       "    .dataframe thead th {\n",
       "        text-align: right;\n",
       "    }\n",
       "</style>\n",
       "<table border=\"1\" class=\"dataframe\">\n",
       "  <thead>\n",
       "    <tr style=\"text-align: right;\">\n",
       "      <th></th>\n",
       "      <th>mpg</th>\n",
       "      <th>cylinders</th>\n",
       "      <th>displacement</th>\n",
       "      <th>horsepower</th>\n",
       "      <th>weight</th>\n",
       "      <th>acceleration</th>\n",
       "      <th>model year</th>\n",
       "      <th>origin</th>\n",
       "      <th>car name</th>\n",
       "    </tr>\n",
       "  </thead>\n",
       "  <tbody>\n",
       "    <tr>\n",
       "      <th>0</th>\n",
       "      <td>18.0</td>\n",
       "      <td>8</td>\n",
       "      <td>307.0</td>\n",
       "      <td>130</td>\n",
       "      <td>3504</td>\n",
       "      <td>12.0</td>\n",
       "      <td>70</td>\n",
       "      <td>1</td>\n",
       "      <td>chevrolet chevelle malibu</td>\n",
       "    </tr>\n",
       "    <tr>\n",
       "      <th>1</th>\n",
       "      <td>15.0</td>\n",
       "      <td>8</td>\n",
       "      <td>350.0</td>\n",
       "      <td>165</td>\n",
       "      <td>3693</td>\n",
       "      <td>11.5</td>\n",
       "      <td>70</td>\n",
       "      <td>1</td>\n",
       "      <td>buick skylark 320</td>\n",
       "    </tr>\n",
       "    <tr>\n",
       "      <th>2</th>\n",
       "      <td>18.0</td>\n",
       "      <td>8</td>\n",
       "      <td>318.0</td>\n",
       "      <td>150</td>\n",
       "      <td>3436</td>\n",
       "      <td>11.0</td>\n",
       "      <td>70</td>\n",
       "      <td>1</td>\n",
       "      <td>plymouth satellite</td>\n",
       "    </tr>\n",
       "    <tr>\n",
       "      <th>3</th>\n",
       "      <td>16.0</td>\n",
       "      <td>8</td>\n",
       "      <td>304.0</td>\n",
       "      <td>150</td>\n",
       "      <td>3433</td>\n",
       "      <td>12.0</td>\n",
       "      <td>70</td>\n",
       "      <td>1</td>\n",
       "      <td>amc rebel sst</td>\n",
       "    </tr>\n",
       "    <tr>\n",
       "      <th>4</th>\n",
       "      <td>17.0</td>\n",
       "      <td>8</td>\n",
       "      <td>302.0</td>\n",
       "      <td>140</td>\n",
       "      <td>3449</td>\n",
       "      <td>10.5</td>\n",
       "      <td>70</td>\n",
       "      <td>1</td>\n",
       "      <td>ford torino</td>\n",
       "    </tr>\n",
       "  </tbody>\n",
       "</table>\n",
       "</div>"
      ],
      "text/plain": [
       "    mpg  cylinders  displacement horsepower  weight  acceleration  model year  \\\n",
       "0  18.0          8         307.0        130    3504          12.0          70   \n",
       "1  15.0          8         350.0        165    3693          11.5          70   \n",
       "2  18.0          8         318.0        150    3436          11.0          70   \n",
       "3  16.0          8         304.0        150    3433          12.0          70   \n",
       "4  17.0          8         302.0        140    3449          10.5          70   \n",
       "\n",
       "   origin                   car name  \n",
       "0       1  chevrolet chevelle malibu  \n",
       "1       1          buick skylark 320  \n",
       "2       1         plymouth satellite  \n",
       "3       1              amc rebel sst  \n",
       "4       1                ford torino  "
      ]
     },
     "execution_count": 4,
     "metadata": {},
     "output_type": "execute_result"
    }
   ],
   "source": [
    "df.head()"
   ]
  },
  {
   "cell_type": "code",
   "execution_count": 5,
   "id": "bc5d4fb9",
   "metadata": {},
   "outputs": [
    {
     "data": {
      "text/plain": [
       "(398, 9)"
      ]
     },
     "execution_count": 5,
     "metadata": {},
     "output_type": "execute_result"
    }
   ],
   "source": [
    "df.shape"
   ]
  },
  {
   "cell_type": "code",
   "execution_count": 6,
   "id": "ea8f4a3c",
   "metadata": {},
   "outputs": [
    {
     "name": "stdout",
     "output_type": "stream",
     "text": [
      "<class 'pandas.core.frame.DataFrame'>\n",
      "RangeIndex: 398 entries, 0 to 397\n",
      "Data columns (total 9 columns):\n",
      " #   Column        Non-Null Count  Dtype  \n",
      "---  ------        --------------  -----  \n",
      " 0   mpg           398 non-null    float64\n",
      " 1   cylinders     398 non-null    int64  \n",
      " 2   displacement  398 non-null    float64\n",
      " 3   horsepower    398 non-null    object \n",
      " 4   weight        398 non-null    int64  \n",
      " 5   acceleration  398 non-null    float64\n",
      " 6   model year    398 non-null    int64  \n",
      " 7   origin        398 non-null    int64  \n",
      " 8   car name      398 non-null    object \n",
      "dtypes: float64(3), int64(4), object(2)\n",
      "memory usage: 28.1+ KB\n"
     ]
    }
   ],
   "source": [
    "df.info()"
   ]
  },
  {
   "cell_type": "code",
   "execution_count": 7,
   "id": "ceb2e9cb",
   "metadata": {},
   "outputs": [],
   "source": [
    "#Prep the data for modeling.\n",
    "#Remove the car name column\n",
    "df.drop(['car name'], axis=1, inplace=True)"
   ]
  },
  {
   "cell_type": "code",
   "execution_count": 8,
   "id": "920ac56a",
   "metadata": {},
   "outputs": [
    {
     "name": "stdout",
     "output_type": "stream",
     "text": [
      "<class 'pandas.core.series.Series'>\n",
      "RangeIndex: 398 entries, 0 to 397\n",
      "Series name: horsepower\n",
      "Non-Null Count  Dtype \n",
      "--------------  ----- \n",
      "398 non-null    object\n",
      "dtypes: object(1)\n",
      "memory usage: 3.2+ KB\n"
     ]
    }
   ],
   "source": [
    "#The horsepower column values likely imported as a string data type. \n",
    "#Figure out why and replace any strings with the column mean.\n",
    "df.horsepower.info()"
   ]
  },
  {
   "cell_type": "code",
   "execution_count": 9,
   "id": "c480813a",
   "metadata": {},
   "outputs": [
    {
     "data": {
      "text/plain": [
       "array(['130', '165', '150', '140', '198', '220', '215', '225', '190',\n",
       "       '170', '160', '95', '97', '85', '88', '46', '87', '90', '113',\n",
       "       '200', '210', '193', '?', '100', '105', '175', '153', '180', '110',\n",
       "       '72', '86', '70', '76', '65', '69', '60', '80', '54', '208', '155',\n",
       "       '112', '92', '145', '137', '158', '167', '94', '107', '230', '49',\n",
       "       '75', '91', '122', '67', '83', '78', '52', '61', '93', '148',\n",
       "       '129', '96', '71', '98', '115', '53', '81', '79', '120', '152',\n",
       "       '102', '108', '68', '58', '149', '89', '63', '48', '66', '139',\n",
       "       '103', '125', '133', '138', '135', '142', '77', '62', '132', '84',\n",
       "       '64', '74', '116', '82'], dtype=object)"
      ]
     },
     "execution_count": 9,
     "metadata": {},
     "output_type": "execute_result"
    }
   ],
   "source": [
    "df.horsepower.unique()"
   ]
  },
  {
   "cell_type": "markdown",
   "id": "a253b82a",
   "metadata": {},
   "source": [
    "Based on the unique values, the horsepower column contains a string value ('?'), thus, this column is assigned an object data type."
   ]
  },
  {
   "cell_type": "code",
   "execution_count": 10,
   "id": "fc98fab8",
   "metadata": {},
   "outputs": [
    {
     "data": {
      "text/html": [
       "<div>\n",
       "<style scoped>\n",
       "    .dataframe tbody tr th:only-of-type {\n",
       "        vertical-align: middle;\n",
       "    }\n",
       "\n",
       "    .dataframe tbody tr th {\n",
       "        vertical-align: top;\n",
       "    }\n",
       "\n",
       "    .dataframe thead th {\n",
       "        text-align: right;\n",
       "    }\n",
       "</style>\n",
       "<table border=\"1\" class=\"dataframe\">\n",
       "  <thead>\n",
       "    <tr style=\"text-align: right;\">\n",
       "      <th></th>\n",
       "      <th>mpg</th>\n",
       "      <th>cylinders</th>\n",
       "      <th>displacement</th>\n",
       "      <th>horsepower</th>\n",
       "      <th>weight</th>\n",
       "      <th>acceleration</th>\n",
       "      <th>model year</th>\n",
       "      <th>origin</th>\n",
       "    </tr>\n",
       "  </thead>\n",
       "  <tbody>\n",
       "    <tr>\n",
       "      <th>32</th>\n",
       "      <td>25.0</td>\n",
       "      <td>4</td>\n",
       "      <td>98.0</td>\n",
       "      <td>?</td>\n",
       "      <td>2046</td>\n",
       "      <td>19.0</td>\n",
       "      <td>71</td>\n",
       "      <td>1</td>\n",
       "    </tr>\n",
       "    <tr>\n",
       "      <th>126</th>\n",
       "      <td>21.0</td>\n",
       "      <td>6</td>\n",
       "      <td>200.0</td>\n",
       "      <td>?</td>\n",
       "      <td>2875</td>\n",
       "      <td>17.0</td>\n",
       "      <td>74</td>\n",
       "      <td>1</td>\n",
       "    </tr>\n",
       "    <tr>\n",
       "      <th>330</th>\n",
       "      <td>40.9</td>\n",
       "      <td>4</td>\n",
       "      <td>85.0</td>\n",
       "      <td>?</td>\n",
       "      <td>1835</td>\n",
       "      <td>17.3</td>\n",
       "      <td>80</td>\n",
       "      <td>2</td>\n",
       "    </tr>\n",
       "    <tr>\n",
       "      <th>336</th>\n",
       "      <td>23.6</td>\n",
       "      <td>4</td>\n",
       "      <td>140.0</td>\n",
       "      <td>?</td>\n",
       "      <td>2905</td>\n",
       "      <td>14.3</td>\n",
       "      <td>80</td>\n",
       "      <td>1</td>\n",
       "    </tr>\n",
       "    <tr>\n",
       "      <th>354</th>\n",
       "      <td>34.5</td>\n",
       "      <td>4</td>\n",
       "      <td>100.0</td>\n",
       "      <td>?</td>\n",
       "      <td>2320</td>\n",
       "      <td>15.8</td>\n",
       "      <td>81</td>\n",
       "      <td>2</td>\n",
       "    </tr>\n",
       "    <tr>\n",
       "      <th>374</th>\n",
       "      <td>23.0</td>\n",
       "      <td>4</td>\n",
       "      <td>151.0</td>\n",
       "      <td>?</td>\n",
       "      <td>3035</td>\n",
       "      <td>20.5</td>\n",
       "      <td>82</td>\n",
       "      <td>1</td>\n",
       "    </tr>\n",
       "  </tbody>\n",
       "</table>\n",
       "</div>"
      ],
      "text/plain": [
       "      mpg  cylinders  displacement horsepower  weight  acceleration  \\\n",
       "32   25.0          4          98.0          ?    2046          19.0   \n",
       "126  21.0          6         200.0          ?    2875          17.0   \n",
       "330  40.9          4          85.0          ?    1835          17.3   \n",
       "336  23.6          4         140.0          ?    2905          14.3   \n",
       "354  34.5          4         100.0          ?    2320          15.8   \n",
       "374  23.0          4         151.0          ?    3035          20.5   \n",
       "\n",
       "     model year  origin  \n",
       "32           71       1  \n",
       "126          74       1  \n",
       "330          80       2  \n",
       "336          80       1  \n",
       "354          81       2  \n",
       "374          82       1  "
      ]
     },
     "execution_count": 10,
     "metadata": {},
     "output_type": "execute_result"
    }
   ],
   "source": [
    "df[df['horsepower'].str.contains(r\"\\?\")]"
   ]
  },
  {
   "cell_type": "code",
   "execution_count": 11,
   "id": "a83a55b9",
   "metadata": {},
   "outputs": [],
   "source": [
    "hp_mean = pd.to_numeric(df['horsepower'], errors='coerce').mean()"
   ]
  },
  {
   "cell_type": "code",
   "execution_count": 12,
   "id": "7079c794",
   "metadata": {},
   "outputs": [
    {
     "data": {
      "text/plain": [
       "104.46938775510205"
      ]
     },
     "execution_count": 12,
     "metadata": {},
     "output_type": "execute_result"
    }
   ],
   "source": [
    "hp_mean"
   ]
  },
  {
   "cell_type": "code",
   "execution_count": 13,
   "id": "f006db47",
   "metadata": {},
   "outputs": [],
   "source": [
    "df['horsepower'] = df['horsepower'].str.replace('?', '105', regex=True)"
   ]
  },
  {
   "cell_type": "code",
   "execution_count": 14,
   "id": "c097af6e",
   "metadata": {},
   "outputs": [],
   "source": [
    "df['horsepower'] = df.horsepower.astype(int)"
   ]
  },
  {
   "cell_type": "code",
   "execution_count": 15,
   "id": "05f27826",
   "metadata": {},
   "outputs": [],
   "source": [
    "#Create dummy variables for the origin column.\n",
    "dummy_origin = pd.get_dummies(df['origin'])"
   ]
  },
  {
   "cell_type": "code",
   "execution_count": 16,
   "id": "16f91da3",
   "metadata": {},
   "outputs": [
    {
     "data": {
      "text/html": [
       "<div>\n",
       "<style scoped>\n",
       "    .dataframe tbody tr th:only-of-type {\n",
       "        vertical-align: middle;\n",
       "    }\n",
       "\n",
       "    .dataframe tbody tr th {\n",
       "        vertical-align: top;\n",
       "    }\n",
       "\n",
       "    .dataframe thead th {\n",
       "        text-align: right;\n",
       "    }\n",
       "</style>\n",
       "<table border=\"1\" class=\"dataframe\">\n",
       "  <thead>\n",
       "    <tr style=\"text-align: right;\">\n",
       "      <th></th>\n",
       "      <th>1</th>\n",
       "      <th>2</th>\n",
       "      <th>3</th>\n",
       "    </tr>\n",
       "  </thead>\n",
       "  <tbody>\n",
       "    <tr>\n",
       "      <th>0</th>\n",
       "      <td>1</td>\n",
       "      <td>0</td>\n",
       "      <td>0</td>\n",
       "    </tr>\n",
       "    <tr>\n",
       "      <th>1</th>\n",
       "      <td>1</td>\n",
       "      <td>0</td>\n",
       "      <td>0</td>\n",
       "    </tr>\n",
       "    <tr>\n",
       "      <th>2</th>\n",
       "      <td>1</td>\n",
       "      <td>0</td>\n",
       "      <td>0</td>\n",
       "    </tr>\n",
       "    <tr>\n",
       "      <th>3</th>\n",
       "      <td>1</td>\n",
       "      <td>0</td>\n",
       "      <td>0</td>\n",
       "    </tr>\n",
       "    <tr>\n",
       "      <th>4</th>\n",
       "      <td>1</td>\n",
       "      <td>0</td>\n",
       "      <td>0</td>\n",
       "    </tr>\n",
       "  </tbody>\n",
       "</table>\n",
       "</div>"
      ],
      "text/plain": [
       "   1  2  3\n",
       "0  1  0  0\n",
       "1  1  0  0\n",
       "2  1  0  0\n",
       "3  1  0  0\n",
       "4  1  0  0"
      ]
     },
     "execution_count": 16,
     "metadata": {},
     "output_type": "execute_result"
    }
   ],
   "source": [
    "dummy_origin.head()"
   ]
  },
  {
   "cell_type": "code",
   "execution_count": 17,
   "id": "ad355741",
   "metadata": {},
   "outputs": [
    {
     "name": "stdout",
     "output_type": "stream",
     "text": [
      "                   mpg  cylinders  displacement  horsepower    weight  \\\n",
      "mpg           1.000000  -0.775396     -0.804203   -0.771316 -0.831741   \n",
      "cylinders    -0.775396   1.000000      0.950721    0.838800  0.896017   \n",
      "displacement -0.804203   0.950721      1.000000    0.893515  0.932824   \n",
      "horsepower   -0.771316   0.838800      0.893515    1.000000  0.860457   \n",
      "weight       -0.831741   0.896017      0.932824    0.860457  1.000000   \n",
      "acceleration  0.420289  -0.505419     -0.543684   -0.684125 -0.417457   \n",
      "model year    0.579267  -0.348746     -0.370164   -0.411537 -0.306564   \n",
      "origin        0.563450  -0.562543     -0.609409   -0.453731 -0.581024   \n",
      "\n",
      "              acceleration  model year    origin  \n",
      "mpg               0.420289    0.579267  0.563450  \n",
      "cylinders        -0.505419   -0.348746 -0.562543  \n",
      "displacement     -0.543684   -0.370164 -0.609409  \n",
      "horsepower       -0.684125   -0.411537 -0.453731  \n",
      "weight           -0.417457   -0.306564 -0.581024  \n",
      "acceleration      1.000000    0.288137  0.205873  \n",
      "model year        0.288137    1.000000  0.180662  \n",
      "origin            0.205873    0.180662  1.000000  \n"
     ]
    }
   ],
   "source": [
    "#Create a correlation coefficient matrix and/or visualization. Are there features highly correlated with mpg?\n",
    "corr_matrix = df.corr()\n",
    "print(corr_matrix)"
   ]
  },
  {
   "cell_type": "code",
   "execution_count": 18,
   "id": "b0803b4f",
   "metadata": {},
   "outputs": [
    {
     "data": {
      "image/png": "[encoded data removed]",
      "text/plain": [
       "<Figure size 640x480 with 2 Axes>"
      ]
     },
     "metadata": {},
     "output_type": "display_data"
    }
   ],
   "source": [
    "#Visual representation of the correlation matrix using seaborn and matplotlib\n",
    "sns.heatmap(corr_matrix, annot=True)\n",
    "plt.show()"
   ]
  },
  {
   "cell_type": "markdown",
   "id": "285cc08b",
   "metadata": {},
   "source": [
    "Cylinders, displacement, horsepower and weight all show a strong negative correlation with mpg."
   ]
  },
  {
   "cell_type": "code",
   "execution_count": 19,
   "id": "54400334",
   "metadata": {},
   "outputs": [
    {
     "data": {
      "image/png": "[encoded data removed]",
      "text/plain": [
       "<Figure size 1000x400 with 1 Axes>"
      ]
     },
     "metadata": {},
     "output_type": "display_data"
    }
   ],
   "source": [
    "#Plot mpg versus weight. Analyze this graph and explain how it relates to the corresponding correlation \n",
    "#coefficient.\n",
    "plt.figure(figsize=(10,4))\n",
    "\n",
    "sns.scatterplot(data=df, x='weight', y='mpg')\n",
    "sns.set_style(\"whitegrid\")\n",
    "plt.title('MPG vs Weight of Car')\n",
    "\n",
    "plt.show()"
   ]
  },
  {
   "cell_type": "markdown",
   "id": "ebbb7f3b",
   "metadata": {},
   "source": [
    "The plot of MPG vs weight aligns with the correlation coefficient (-0.83). There is a strong negative correlation between mpg and weight. As the weight of the car increases, the mpg of the car decreases. This also makes sense in reality as more energy is required to run heavier cars."
   ]
  },
  {
   "cell_type": "code",
   "execution_count": 20,
   "id": "4df2b512",
   "metadata": {},
   "outputs": [],
   "source": [
    "#Randomly split the data into 80% training data and 20% test data, where your target is mpg.\n",
    "y = df['mpg']\n",
    "x = df.drop('mpg', axis = 1)"
   ]
  },
  {
   "cell_type": "code",
   "execution_count": 21,
   "id": "371aefe3",
   "metadata": {},
   "outputs": [],
   "source": [
    "x_train, x_test, y_train, y_test = train_test_split(x, y, test_size = 0.2, random_state = 42)"
   ]
  },
  {
   "cell_type": "code",
   "execution_count": 22,
   "id": "bd86f222",
   "metadata": {},
   "outputs": [
    {
     "data": {
      "text/plain": [
       "True"
      ]
     },
     "execution_count": 22,
     "metadata": {},
     "output_type": "execute_result"
    }
   ],
   "source": [
    "x_train.shape[0] == y_train.shape[0] "
   ]
  },
  {
   "cell_type": "code",
   "execution_count": 23,
   "id": "87a8ff32",
   "metadata": {},
   "outputs": [
    {
     "data": {
      "text/plain": [
       "True"
      ]
     },
     "execution_count": 23,
     "metadata": {},
     "output_type": "execute_result"
    }
   ],
   "source": [
    "x_test.shape[0] == y_test.shape[0]"
   ]
  },
  {
   "cell_type": "code",
   "execution_count": 24,
   "id": "5eb08106",
   "metadata": {},
   "outputs": [
    {
     "data": {
      "text/plain": [
       "23.514572864321615"
      ]
     },
     "execution_count": 24,
     "metadata": {},
     "output_type": "execute_result"
    }
   ],
   "source": [
    "#Taking the average of the target variable as this will be helpful for analysis.\n",
    "df.mpg.mean()"
   ]
  },
  {
   "cell_type": "code",
   "execution_count": 25,
   "id": "ef545f3e",
   "metadata": {},
   "outputs": [],
   "source": [
    "#Train an ordinary linear regression on the training data.\n",
    "regression = LinearRegression()\n",
    "model = regression.fit(x_train, y_train)"
   ]
  },
  {
   "cell_type": "code",
   "execution_count": 26,
   "id": "6aeee7a7",
   "metadata": {},
   "outputs": [],
   "source": [
    "y_predicted = regression.predict(x_test)"
   ]
  },
  {
   "cell_type": "code",
   "execution_count": 27,
   "id": "ee6a9665",
   "metadata": {},
   "outputs": [],
   "source": [
    "y_train_pred = regression.predict(x_train)"
   ]
  },
  {
   "cell_type": "code",
   "execution_count": 28,
   "id": "e0fb5a80",
   "metadata": {},
   "outputs": [
    {
     "name": "stdout",
     "output_type": "stream",
     "text": [
      "0.8139510680402732\n"
     ]
    }
   ],
   "source": [
    "#Calculate R2, RMSE, and MAE on both the training and test sets.\n",
    "r2_train = model.score(x_train, y_train) #r2 for train set\n",
    "print(r2_train)"
   ]
  },
  {
   "cell_type": "code",
   "execution_count": 29,
   "id": "4fe24d3d",
   "metadata": {},
   "outputs": [
    {
     "name": "stdout",
     "output_type": "stream",
     "text": [
      "0.8475746159426842\n"
     ]
    }
   ],
   "source": [
    "r2_test = model.score(x_test, y_test) #r2 for test set\n",
    "print(r2_test)"
   ]
  },
  {
   "cell_type": "markdown",
   "id": "8d3778ba",
   "metadata": {},
   "source": [
    "Interpretation of R2 Values: Both R2 values are in greater than 80% whcih indicates that 80% of the variability of the target variable can be explained by the model. "
   ]
  },
  {
   "cell_type": "code",
   "execution_count": 30,
   "id": "cddfd852",
   "metadata": {},
   "outputs": [
    {
     "name": "stdout",
     "output_type": "stream",
     "text": [
      "3.415342622125864\n"
     ]
    }
   ],
   "source": [
    "rmse_train = np.sqrt(mean_squared_error(y_train, y_train_pred)) #rmse for train set\n",
    "print(rmse_train)"
   ]
  },
  {
   "cell_type": "code",
   "execution_count": 31,
   "id": "9de24513",
   "metadata": {},
   "outputs": [
    {
     "name": "stdout",
     "output_type": "stream",
     "text": [
      "2.8627558117991514\n"
     ]
    }
   ],
   "source": [
    "rmse_test = np.sqrt(mean_squared_error(y_test, y_predicted)) #rmse for test set\n",
    "print(rmse_test)"
   ]
  },
  {
   "cell_type": "markdown",
   "id": "553dc0ca",
   "metadata": {},
   "source": [
    "Interpretation of RMSE results: The RMSE values are relatively low considering the values of the target variable (mpg, mean=23.5). The low RMSE values show the the model is quite accurate."
   ]
  },
  {
   "cell_type": "code",
   "execution_count": 32,
   "id": "2023b054",
   "metadata": {},
   "outputs": [
    {
     "name": "stdout",
     "output_type": "stream",
     "text": [
      "2.5992940320549813\n"
     ]
    }
   ],
   "source": [
    "mae_train = mean_absolute_error(y_train, y_train_pred) #mae for train set\n",
    "print(mae_train)"
   ]
  },
  {
   "cell_type": "code",
   "execution_count": 33,
   "id": "85669e41",
   "metadata": {},
   "outputs": [
    {
     "name": "stdout",
     "output_type": "stream",
     "text": [
      "2.2532974033746327\n"
     ]
    }
   ],
   "source": [
    "mae_test = mean_absolute_error(y_test, y_predicted) #mae for test set\n",
    "print(mae_test)"
   ]
  },
  {
   "cell_type": "markdown",
   "id": "38d2999f",
   "metadata": {},
   "source": [
    "Interpretation of MAE results: Similar to the RMSE results, the MAE values are relatively low considering the values of the target variable (mpg, mean=23.5). The low MAE values show the the model is quite accurate."
   ]
  },
  {
   "cell_type": "code",
   "execution_count": 34,
   "id": "6e9bde48",
   "metadata": {},
   "outputs": [],
   "source": [
    "#Polynomial regression model\n",
    "\n",
    "poly = PolynomialFeatures(degree=2)\n",
    "\n",
    "x_train2 = poly.fit_transform(x_train)\n",
    "x_test2 = poly.fit_transform(x_test)\n",
    "\n",
    "poly_regr = linear_model.LinearRegression()\n",
    "model2 = poly_regr.fit(x_train2, y_train)\n",
    "\n",
    "y_pred_train2 = poly_regr.predict(x_train2)\n",
    "y_pred_test2 = poly_regr.predict(x_test2)"
   ]
  },
  {
   "cell_type": "code",
   "execution_count": 35,
   "id": "8cc35191",
   "metadata": {},
   "outputs": [],
   "source": [
    "#calculating for R2, RMSE and MAE\n",
    "\n",
    "r2_train2 = model2.score(x_train2, y_train) #r2 for train set\n",
    "r2_test2 = model2.score(x_test2, y_test) #r2 for train set\n",
    "\n",
    "rmse_train2 = np.sqrt(mean_squared_error(y_train, y_pred_train2)) #rmse for train set\n",
    "rmse_test2 = np.sqrt(mean_squared_error(y_test, y_pred_test2)) #rmse for train set\n",
    "\n",
    "mae_train2 = mean_absolute_error(y_train, y_pred_train2) #mae for train set\n",
    "mae_test2 = mean_absolute_error(y_test, y_pred_test2) #mae for test set"
   ]
  },
  {
   "cell_type": "code",
   "execution_count": 36,
   "id": "f5bb8a1a",
   "metadata": {},
   "outputs": [
    {
     "name": "stdout",
     "output_type": "stream",
     "text": [
      "R2 for Poly Train Set: 0.8920695585360139\n",
      "R2 for Poly Test Set: 0.8872599626162633\n",
      "RMSE for Poly Train Set: 2.6013133160355766\n",
      "RMSE for Poly Test Set: 2.4620379522593843\n",
      "MAE for Poly Train Set: 1.9056144272375546\n",
      "MAE for Poly Test Set: 1.8640763070946562\n"
     ]
    }
   ],
   "source": [
    "print(f\"\"\"R2 for Poly Train Set: {r2_train2}\n",
    "R2 for Poly Test Set: {r2_test2}\n",
    "RMSE for Poly Train Set: {rmse_train2}\n",
    "RMSE for Poly Test Set: {rmse_test2}\n",
    "MAE for Poly Train Set: {mae_train2}\n",
    "MAE for Poly Test Set: {mae_test2}\"\"\")"
   ]
  },
  {
   "cell_type": "markdown",
   "id": "c934a329",
   "metadata": {},
   "source": [
    "The R2 results are higher while the RMSE and MAE results are lower for the Polynomial Regression Model compared to the corresponding metric values from the Linear Regression model, which indicates that the Polynomial Regression model is slightly better in the prediction of the target variable."
   ]
  }
 ],
 "metadata": {
  "kernelspec": {
   "display_name": "Python 3 (ipykernel)",
   "language": "python",
   "name": "python3"
  },
  "language_info": {
   "codemirror_mode": {
    "name": "ipython",
    "version": 3
   },
   "file_extension": ".py",
   "mimetype": "text/x-python",
   "name": "python",
   "nbconvert_exporter": "python",
   "pygments_lexer": "ipython3",
   "version": "3.9.13"
  }
 },
 "nbformat": 4,
 "nbformat_minor": 5
}
